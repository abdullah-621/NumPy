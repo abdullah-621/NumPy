{
 "cells": [
  {
   "cell_type": "markdown",
   "id": "ea8097ca",
   "metadata": {},
   "source": [
    "##### 1. Import numpy as np and see the version"
   ]
  },
  {
   "cell_type": "code",
   "execution_count": null,
   "id": "af74cc98",
   "metadata": {},
   "outputs": [],
   "source": [
    "import numpy as np\n",
    "print(np.__version__)"
   ]
  },
  {
   "cell_type": "markdown",
   "id": "043f9b0a",
   "metadata": {},
   "source": [
    "##### 2. How to create a 1D array?"
   ]
  },
  {
   "cell_type": "code",
   "execution_count": null,
   "id": "78b9962f",
   "metadata": {},
   "outputs": [],
   "source": [
    "arr_1D = np.arange(10)\n",
    "print(arr_1D)"
   ]
  },
  {
   "cell_type": "markdown",
   "id": "049073de",
   "metadata": {},
   "source": [
    "3. How to create a boolean array?"
   ]
  },
  {
   "cell_type": "code",
   "execution_count": null,
   "id": "99db11c4",
   "metadata": {},
   "outputs": [],
   "source": [
    "arr_bool = np.full((3,3),True, dtype=bool)\n",
    "arr_bool = np.full((9),True, dtype=bool).reshape(3,3)\n",
    "print(arr_bool)\n",
    "\n",
    "arr_ones = np.ones((3,3),dtype=bool)\n",
    "print(arr_ones)\n",
    "\n",
    "arr_zero = np.zeros((3,3),dtype=bool)\n",
    "print(arr_zero)"
   ]
  },
  {
   "cell_type": "markdown",
   "id": "38648eb4",
   "metadata": {},
   "source": [
    "4. How to extract items that satisfy a given condition from 1D array?"
   ]
  },
  {
   "cell_type": "code",
   "execution_count": null,
   "id": "d1a98aea",
   "metadata": {},
   "outputs": [],
   "source": [
    "arr = np.arange(10)\n",
    "arr_odd = arr[arr % 2 == 1]\n",
    "print(arr_odd)"
   ]
  },
  {
   "cell_type": "markdown",
   "id": "9ea72837",
   "metadata": {},
   "source": [
    "5. How to replace items that satisfy a condition with another value in numpy array?"
   ]
  },
  {
   "cell_type": "code",
   "execution_count": null,
   "id": "e12c87e8",
   "metadata": {},
   "outputs": [],
   "source": [
    "arr = np.arange(10)\n",
    "arr[(arr % 2 == 1)] = -1\n",
    "print(arr)"
   ]
  },
  {
   "cell_type": "markdown",
   "id": "975efe40",
   "metadata": {},
   "source": [
    "6. How to replace items that satisfy a condition without affecting the original array?"
   ]
  },
  {
   "cell_type": "code",
   "execution_count": null,
   "id": "fc9f9d2c",
   "metadata": {},
   "outputs": [],
   "source": [
    "arr = np.arange(10)\n",
    "out = arr.copy()\n",
    "out[(out % 2 == 1)] = -1\n",
    "\n",
    "print(\"Original : \",arr)\n",
    "print(\"Modify : \",out)"
   ]
  },
  {
   "cell_type": "markdown",
   "id": "f3488a22",
   "metadata": {},
   "source": [
    "7. How to reshape an array?"
   ]
  },
  {
   "cell_type": "code",
   "execution_count": null,
   "id": "a3c467e2",
   "metadata": {},
   "outputs": [],
   "source": [
    "#-1 automatically decides the number of columns / rows\n",
    "arr = np.arange(12).reshape(-1,3) \n",
    "print(arr)\n",
    "print(\"Shape :\",arr.shape)\n",
    "print(\"Size :\",arr.size)\n",
    "print(\"Type :\",arr.dtype)\n",
    "print(\"ItemSize :\",arr.itemsize)"
   ]
  },
  {
   "cell_type": "markdown",
   "id": "c7f22ca9",
   "metadata": {},
   "source": [
    "8. How to stack two arrays vertically or horizontally?"
   ]
  },
  {
   "cell_type": "code",
   "execution_count": null,
   "id": "fe6e6fd4",
   "metadata": {},
   "outputs": [],
   "source": [
    "arr1 = np.arange(10).reshape(2,-1)\n",
    "arr2 = np.repeat(1,10).reshape(2,-1)\n",
    "\n",
    "stack = np.stack((arr2,arr1),axis=1)\n",
    "print(stack,\"\\n\")\n",
    "\n",
    "vstack = np.vstack((arr2,arr1))\n",
    "hstack = np.hstack((arr1,arr2))\n",
    "print(\"Add vertically :\\n\",vstack)\n",
    "print()\n",
    "print(\"Add horizontally :\\n\",hstack )"
   ]
  },
  {
   "cell_type": "markdown",
   "id": "c873c230",
   "metadata": {},
   "source": [
    "10. How to generate custom sequences in numpy without hardcoding?"
   ]
  },
  {
   "cell_type": "code",
   "execution_count": null,
   "id": "6537d1cd",
   "metadata": {},
   "outputs": [],
   "source": [
    "a = np.array([1,2,3])\n",
    "# np.r_[np.repeat(a,3), np.tile(a,3)]\n",
    "print(np.repeat(a,3)) \n",
    "print(np.repeat(a,[2,2,2]))\n",
    "\n",
    "print(np.tile(a,3))\n",
    "print(np.tile(a,(3,2))) # 3 array 2 times every arry\n"
   ]
  },
  {
   "cell_type": "markdown",
   "id": "aed0f7cc",
   "metadata": {},
   "source": [
    "11. How to get the common items between two python numpy arrays?"
   ]
  },
  {
   "cell_type": "code",
   "execution_count": 65,
   "id": "6b649547",
   "metadata": {},
   "outputs": [
    {
     "data": {
      "text/plain": [
       "array([2, 4])"
      ]
     },
     "execution_count": 65,
     "metadata": {},
     "output_type": "execute_result"
    }
   ],
   "source": [
    "a = np.array([1,2,3,2,3,4,3,4,5,6])\n",
    "b = np.array([7,2,10,2,7,4,9,4,9,8])\n",
    "\n",
    "np.intersect1d(a,b)"
   ]
  },
  {
   "cell_type": "markdown",
   "id": "acf759c1",
   "metadata": {},
   "source": [
    "12. How to remove from one array those items that exist in another?"
   ]
  },
  {
   "cell_type": "code",
   "execution_count": null,
   "id": "ec9837a5",
   "metadata": {},
   "outputs": [
    {
     "name": "stdout",
     "output_type": "stream",
     "text": [
      "[1 2 3 2 3 4 3 4 5 6]\n",
      "[1 3 5 6]\n"
     ]
    }
   ],
   "source": [
    "a = np.array([1,2,3,2,3,4,3,4,5,6])\n",
    "b = np.array([7,2,10,2,7,4,9,4,9,8])\n",
    "\n",
    "print(np.setdiff1d(a,b))"
   ]
  },
  {
   "cell_type": "markdown",
   "id": "9057a3fe",
   "metadata": {},
   "source": [
    "13. How to get the positions where elements of two arrays match?"
   ]
  },
  {
   "cell_type": "code",
   "execution_count": 77,
   "id": "67ea5cd6",
   "metadata": {},
   "outputs": [
    {
     "name": "stdout",
     "output_type": "stream",
     "text": [
      "(array([1, 3, 5, 7]),)\n"
     ]
    }
   ],
   "source": [
    "a = np.array([1,2,3,2,3,4,3,4,5,6])\n",
    "b = np.array([7,2,10,2,7,4,9,4,9,8])\n",
    "\n",
    "c = np.where(a == b)\n",
    "\n",
    "print(c)"
   ]
  },
  {
   "cell_type": "markdown",
   "id": "240a3edf",
   "metadata": {},
   "source": [
    "14. How to extract all numbers between a given range from a numpy array?"
   ]
  },
  {
   "cell_type": "code",
   "execution_count": 85,
   "id": "4e78d0ff",
   "metadata": {},
   "outputs": [
    {
     "data": {
      "text/plain": [
       "array([ 6,  9, 10])"
      ]
     },
     "execution_count": 85,
     "metadata": {},
     "output_type": "execute_result"
    }
   ],
   "source": [
    "a = np.array([2, 6, 1, 9, 10, 3, 27])\n",
    "\n",
    "# b = np.where((a >= 5) & (a <= 10))\n",
    "# print(a[b])\n",
    "\n",
    "a[(a >= 5) & (a <= 10)]"
   ]
  }
 ],
 "metadata": {
  "kernelspec": {
   "display_name": "Python 3",
   "language": "python",
   "name": "python3"
  },
  "language_info": {
   "codemirror_mode": {
    "name": "ipython",
    "version": 3
   },
   "file_extension": ".py",
   "mimetype": "text/x-python",
   "name": "python",
   "nbconvert_exporter": "python",
   "pygments_lexer": "ipython3",
   "version": "3.13.5"
  }
 },
 "nbformat": 4,
 "nbformat_minor": 5
}
