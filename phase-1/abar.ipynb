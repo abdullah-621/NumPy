{
 "cells": [
  {
   "cell_type": "code",
   "execution_count": null,
   "id": "1276d60a",
   "metadata": {},
   "outputs": [],
   "source": [
    "import numpy as np\n",
    "\n",
    "a = np.zeros((3,3))\n",
    "print(a)\n",
    "b = np.ones((3,3))\n",
    "print(b)\n",
    "c = np.full((3,3),10)\n",
    "print(c)\n",
    "d = np.random.random((3,3))\n",
    "print(d)\n",
    "e = np.arange(0,11,1)\n",
    "print(e)"
   ]
  },
  {
   "cell_type": "code",
   "execution_count": null,
   "id": "94e907f3",
   "metadata": {},
   "outputs": [],
   "source": [
    "matrix = np.array([[1,2,3,4],[3,4,5,6],[6,7,8,9]])\n",
    "\n",
    "r = matrix.ravel()\n",
    "print(r.base)\n",
    "f = matrix.flatten()\n",
    "print(f.base)\n"
   ]
  },
  {
   "cell_type": "code",
   "execution_count": null,
   "id": "f161a372",
   "metadata": {},
   "outputs": [],
   "source": [
    "brr = np.random.random(15)\n",
    "\n",
    "brr = np.random.randint(10, size=5)\n",
    "\n",
    "brr = np.random.randint(10, size=(3,3))\n",
    "print(brr)"
   ]
  },
  {
   "cell_type": "code",
   "execution_count": 50,
   "id": "b007ba77",
   "metadata": {},
   "outputs": [
    {
     "name": "stdout",
     "output_type": "stream",
     "text": [
      "[[1 4]\n",
      " [2 5]\n",
      " [3 6]\n",
      " [4 6]]\n"
     ]
    }
   ],
   "source": [
    "import numpy as np\n",
    "m = np.array([[1,2,3,4],[4,5,6,6]])\n",
    "n = m.T\n",
    "print(n)"
   ]
  }
 ],
 "metadata": {
  "kernelspec": {
   "display_name": "Python 3",
   "language": "python",
   "name": "python3"
  },
  "language_info": {
   "codemirror_mode": {
    "name": "ipython",
    "version": 3
   },
   "file_extension": ".py",
   "mimetype": "text/x-python",
   "name": "python",
   "nbconvert_exporter": "python",
   "pygments_lexer": "ipython3",
   "version": "3.13.5"
  }
 },
 "nbformat": 4,
 "nbformat_minor": 5
}
