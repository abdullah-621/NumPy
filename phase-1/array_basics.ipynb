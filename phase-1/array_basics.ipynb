{
 "cells": [
  {
   "cell_type": "markdown",
   "id": "a2a0feeb",
   "metadata": {},
   "source": [
    "## Numpy array and basics\n"
   ]
  },
  {
   "cell_type": "markdown",
   "id": "7f656bb5",
   "metadata": {},
   "source": [
    "Creating array from list"
   ]
  },
  {
   "cell_type": "code",
   "execution_count": null,
   "id": "36d4f297",
   "metadata": {},
   "outputs": [],
   "source": [
    "import numpy as np\n",
    "a = np.array([1,2,3,4,5])\n",
    "print(a)"
   ]
  },
  {
   "cell_type": "markdown",
   "id": "ddccbe34",
   "metadata": {},
   "source": [
    "### Dimention of array"
   ]
  },
  {
   "cell_type": "code",
   "execution_count": null,
   "id": "867daf7b",
   "metadata": {},
   "outputs": [],
   "source": [
    "import numpy as np\n",
    "d = np.array([[[1, 2, 3], [4, 5, 6]], [[1, 2, 3], [4, 5, 6]]])\n",
    "print(d.ndim)\n",
    "\n",
    "arr = np.array([1,2,3,4],ndmin = 5)  # ndmin = number of dimention\n",
    "print(arr)"
   ]
  },
  {
   "cell_type": "markdown",
   "id": "6b00b334",
   "metadata": {},
   "source": [
    "### Array vs List"
   ]
  },
  {
   "cell_type": "code",
   "execution_count": null,
   "id": "fb909d4a",
   "metadata": {},
   "outputs": [],
   "source": [
    "import numpy as np\n",
    "py_list = [1,2,3,4,5]\n",
    "print(\"List multiplication :\",py_list * 2)\n",
    "\n",
    "py_array = np.array([[1,2,3],[4,5,6]]) * np.array([[1,0,0],[0,1,0]]) # element wise multiplication\n",
    "print(\"Array multiplication :\",py_array)"
   ]
  },
  {
   "cell_type": "markdown",
   "id": "281eba33",
   "metadata": {},
   "source": [
    "### Operatino time check"
   ]
  },
  {
   "cell_type": "code",
   "execution_count": null,
   "id": "9347bedc",
   "metadata": {},
   "outputs": [],
   "source": [
    "import time\n",
    "py_start = time.time()\n",
    "py_array = [i*2 for i in range(100000)]\n",
    "print(f\"List operation time : \",time.time() - py_start)\n",
    "\n",
    "numpy_start = time.time()\n",
    "py_array = np.arange(100000) * 2\n",
    "print(f\"Numpy operation time : \",(time.time() - numpy_start))"
   ]
  },
  {
   "cell_type": "markdown",
   "id": "67d1f6de",
   "metadata": {},
   "source": [
    "### => Genarate Array"
   ]
  },
  {
   "cell_type": "code",
   "execution_count": null,
   "id": "9757c886",
   "metadata": {},
   "outputs": [],
   "source": [
    "zeros = np.zeros((3,3))\n",
    "print(\"Zeros :\\n\",zeros)\n",
    "\n",
    "ones = np.ones((2,3))\n",
    "print(\"Ones :\\n\",ones)\n",
    "\n",
    "full = np.full((3,3),7)\n",
    "print(\"Full :\\n\",full)\n",
    "\n",
    "random = np.random.random((3,3))\n",
    "\n",
    "print(f\"Random :\\n{random}\")\n",
    "\n",
    "sequence = np.arange(0,11,2)\n",
    "print(sequence)"
   ]
  },
  {
   "cell_type": "markdown",
   "id": "2b4ad0ab",
   "metadata": {},
   "source": [
    "### vector , matrix and tensor"
   ]
  },
  {
   "cell_type": "code",
   "execution_count": null,
   "id": "da509b47",
   "metadata": {},
   "outputs": [],
   "source": [
    "# import numpy as np\n",
    "vector = np.array([1,2,3,4,5])\n",
    "print(\"Vector : \\n\",vector)\n",
    "\n",
    "matrix = np.array([[1,2,3],\n",
    "                   [4,5,6],\n",
    "                   [7,8,9]])\n",
    "print(\"Matrix : \\n\",matrix.ndim)\n",
    "\n",
    "tensor = np.array([[[1,2],[3,4]],[[5,6],[7,8]]])\n",
    "print(\"Tnsor : \\n\",tensor.ndim)"
   ]
  },
  {
   "cell_type": "markdown",
   "id": "9eee7b61",
   "metadata": {},
   "source": [
    "### Array properties"
   ]
  },
  {
   "cell_type": "code",
   "execution_count": null,
   "id": "a036b2ac",
   "metadata": {},
   "outputs": [],
   "source": [
    "arr = np.array([[1,2,3],[4,5,6],[7,8,9]])\n",
    "print(\"Shape : \",arr.shape)\n",
    "print(\"Dim : \",arr.ndim)\n",
    "print(\"Size : \",arr.size)\n",
    "print(\"Dtype : \",arr.dtype)"
   ]
  },
  {
   "cell_type": "markdown",
   "id": "3b9f1f0f",
   "metadata": {},
   "source": [
    "### Array Reshaping"
   ]
  },
  {
   "cell_type": "code",
   "execution_count": null,
   "id": "c72533d6",
   "metadata": {},
   "outputs": [],
   "source": [
    "arr = np.arange(12)\n",
    "print(\"Orginal Array : \",arr)\n",
    "\n",
    "reshape = arr.reshape((3,4))\n",
    "print(\"Reshape : \\n\",reshape)\n",
    "\n",
    "flatten = reshape.flatten()\n",
    "print(\"flatten : \\n\",flatten)\n",
    "\n",
    "reveled = reshape.ravel()\n",
    "print(\"Revel : \",reveled)\n"
   ]
  }
 ],
 "metadata": {
  "kernelspec": {
   "display_name": "Python 3",
   "language": "python",
   "name": "python3"
  },
  "language_info": {
   "codemirror_mode": {
    "name": "ipython",
    "version": 3
   },
   "file_extension": ".py",
   "mimetype": "text/x-python",
   "name": "python",
   "nbconvert_exporter": "python",
   "pygments_lexer": "ipython3",
   "version": "3.13.5"
  }
 },
 "nbformat": 4,
 "nbformat_minor": 5
}
