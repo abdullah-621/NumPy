{
 "cells": [
  {
   "cell_type": "code",
   "execution_count": null,
   "id": "9d4d98ed",
   "metadata": {},
   "outputs": [],
   "source": [
    "import numpy as np"
   ]
  },
  {
   "cell_type": "code",
   "execution_count": null,
   "id": "26d80b82",
   "metadata": {},
   "outputs": [],
   "source": [
    "# row = sales\n",
    "# col = years\n",
    "\n",
    "salse_data = np.array([[1,1200000,90000,1700000,1800000,2000000],\n",
    "                       [2,2200000,2500000,2700000,2800000,3000000],\n",
    "                       [3,3200000,3500000,3700000,3800000,4000000],\n",
    "                       [4,4200000,4500000,4700000,4800000,5000000],\n",
    "                       [5,5200000,5500000,5700000,5800000,6000000]])\n",
    "\n",
    "# print(\"First 3 Data : \\n\",salse_data[0],salse_data[1],salse_data[2])\n",
    "print(\"First 3 Data :\\n\",salse_data[:3])"
   ]
  },
  {
   "cell_type": "markdown",
   "id": "a344612b",
   "metadata": {},
   "source": [
    "### yearly sum"
   ]
  },
  {
   "cell_type": "code",
   "execution_count": null,
   "id": "770f79e1",
   "metadata": {},
   "outputs": [],
   "source": [
    "print(\"Per year sales : \",np.sum(salse_data[:,1:],axis=0))"
   ]
  },
  {
   "cell_type": "markdown",
   "id": "1096fd59",
   "metadata": {},
   "source": [
    "### Min, max, avarage per year"
   ]
  },
  {
   "cell_type": "code",
   "execution_count": null,
   "id": "a40bc176",
   "metadata": {},
   "outputs": [],
   "source": [
    "# 0 = col\n",
    "# 1 = row\n",
    "print(\"Min sales : \",np.min(salse_data[:,1:],axis=1))\n",
    "print(\"Max sales : \",np.max(salse_data[:,1:],axis=1))\n",
    "print(\"Avarage sales : \",np.mean(salse_data[:,1:],axis=0)) # avarage"
   ]
  },
  {
   "cell_type": "code",
   "execution_count": null,
   "id": "6c302ac3",
   "metadata": {},
   "outputs": [],
   "source": [
    "cumsum = np.cumsum(salse_data[:,1:],axis=1)\n",
    "print(cumsum)"
   ]
  },
  {
   "cell_type": "markdown",
   "id": "4233b9ae",
   "metadata": {},
   "source": [
    "### vectorize"
   ]
  },
  {
   "cell_type": "code",
   "execution_count": null,
   "id": "6bdb2086",
   "metadata": {},
   "outputs": [],
   "source": [
    "import numpy as np\n",
    "\n",
    "resturant = np.array(['biriyari','chaken','mango','goyava'])\n",
    "\n",
    "vectorized_operation = np.vectorize(str.upper)\n",
    "\n",
    "print(\"Vectorized operation : \",vectorized_operation(resturant))"
   ]
  },
  {
   "cell_type": "markdown",
   "id": "fc159fe3",
   "metadata": {},
   "source": [
    "### Broadcast operation (scaler)"
   ]
  },
  {
   "cell_type": "code",
   "execution_count": null,
   "id": "7bac6d11",
   "metadata": {},
   "outputs": [],
   "source": [
    "# 12 is scaler so it's perfrom a vector operation calculate each value\n",
    "monthely_avg = salse_data[:,1:] / 12\n",
    "print(\"Monthely avarage :\\n\",monthely_avg)"
   ]
  }
 ],
 "metadata": {
  "kernelspec": {
   "display_name": "Python 3",
   "language": "python",
   "name": "python3"
  },
  "language_info": {
   "codemirror_mode": {
    "name": "ipython",
    "version": 3
   },
   "file_extension": ".py",
   "mimetype": "text/x-python",
   "name": "python",
   "nbconvert_exporter": "python",
   "pygments_lexer": "ipython3",
   "version": "3.13.5"
  }
 },
 "nbformat": 4,
 "nbformat_minor": 5
}
